{
 "cells": [
  {
   "cell_type": "markdown",
   "metadata": {},
   "source": [
    "# Kaggle Regression\n",
    "\n"
   ]
  },
  {
   "cell_type": "markdown",
   "metadata": {},
   "source": [
    "### Libraries"
   ]
  },
  {
   "cell_type": "code",
   "execution_count": 82,
   "metadata": {},
   "outputs": [],
   "source": [
    "\n",
    "import pandas as pd\n",
    "import numpy as np\n",
    "import sys\n",
    "import os\n",
    "import matplotlib.pyplot as plt\n",
    "%matplotlib inline\n",
    "from sklearn.preprocessing import MinMaxScaler\n",
    "from sklearn.preprocessing import StandardScaler\n",
    "import seaborn as sns\n",
    "from sklearn.model_selection import GridSearchCV\n",
    "from sklearn.model_selection import train_test_split\n",
    "from sklearn.model_selection import KFold\n",
    "from sklearn.model_selection import cross_val_score\n",
    "from sklearn.svm import SVC\n",
    "from sklearn.pipeline import Pipeline\n",
    "import warnings\n",
    "from scipy.signal import butter, filtfilt\n",
    "\n",
    "from utility import read_all_csvs_one_test\n",
    "from utility import run_cv_one_motor\n",
    "from utility import read_all_test_data_from_path\n",
    "from utility import read_all_test_data_from_path, show_reg_result,extract_selected_feature, prepare_sliding_window, FaultDetectReg\n",
    "\n",
    "from sklearn.linear_model import LinearRegression, Ridge, Lasso, ElasticNet\n",
    "from sklearn.tree import DecisionTreeRegressor\n",
    "from sklearn.feature_selection import f_regression\n",
    "from functions import *\n"
   ]
  },
  {
   "cell_type": "markdown",
   "metadata": {},
   "source": [
    "### Read data and pre_processing"
   ]
  },
  {
   "cell_type": "code",
   "execution_count": 89,
   "metadata": {},
   "outputs": [],
   "source": [
    "utility_path = '../'\n",
    "sys.path.insert(1, utility_path)\n",
    "\n",
    "\n",
    "n_int = 20\n",
    "\n",
    "# Subfunction for data preprocessing.\n",
    "def pre_processing(df: pd.DataFrame):\n",
    "    ''' ### Description\n",
    "    Preprocess the data:\n",
    "    - remove outliers\n",
    "    - add new features about the difference between the current and previous n data point.\n",
    "    '''\n",
    "    \n",
    "    # Function to design a Butterworth low-pass filter\n",
    "    def butter_lowpass(cutoff, fs, order=5):\n",
    "        nyquist = 0.5 * fs\n",
    "        normal_cutoff = cutoff / nyquist\n",
    "        b, a = butter(order, normal_cutoff, btype='low', analog=False)\n",
    "        return b, a\n",
    "\n",
    "\n",
    "    # Function to apply the Butterworth low-pass filter\n",
    "    def lowpass_filter(data, cutoff_freq, sampling_freq, order=5):\n",
    "        b, a = butter_lowpass(cutoff_freq, sampling_freq, order=order)\n",
    "        filtered_data = filtfilt(b, a, data)\n",
    "        return filtered_data\n",
    "\n",
    "\n",
    "    # Set parameters for the low-pass filter\n",
    "    cutoff_frequency = .8  # Adjust as needed\n",
    "    sampling_frequency = 10  # Assuming your data is evenly spaced in time\n",
    "\n",
    "\n",
    "    def customized_outlier_removal(df: pd.DataFrame):\n",
    "        ''' # Description\n",
    "        Remove outliers from the dataframe based on defined valid ranges. \n",
    "        Define a valid range of temperature and voltage. \n",
    "        Use ffil function to replace the invalid measurement with the previous value.\n",
    "        '''\n",
    "        df['position'] = df['position'].where(df['position'] <= 1000, np.nan)\n",
    "        df['position'] = df['position'].where(df['position'] >= 0, np.nan)\n",
    "        df['position'] = df['position'].ffill()\n",
    "        df['position'] = lowpass_filter(df['position'], cutoff_frequency, sampling_frequency)\n",
    "        df['position'] = df['position'].rolling(window=20, min_periods=1).mean()\n",
    "        df['position'] = df['position'].round()\n",
    "\n",
    "        df['temperature'] = df['temperature'].where(df['temperature'] <= 100, np.nan)\n",
    "        df['temperature'] = df['temperature'].where(df['temperature'] >= 0, np.nan)\n",
    "        df['temperature'] = df['temperature'].rolling(window=20, min_periods=1).mean()\n",
    "\n",
    "        # Make sure that the difference between the current and previous temperature cannot be too large.\n",
    "        # Define your threshold\n",
    "        threshold = 5\n",
    "        # Shift the 'temperature' column by one row to get the previous temperature\n",
    "        prev_tmp = df['temperature'].shift(1)\n",
    "        # Calculate the absolute difference between current and previous temperature\n",
    "        temp_diff = np.abs(df['temperature'] - prev_tmp)\n",
    "        # Set the temperature to NaN where the difference is larger than the threshold\n",
    "        df.loc[temp_diff > threshold, 'temperature'] = np.nan\n",
    "        df['temperature'] = df['temperature'].ffill()\n",
    "\n",
    "        df['voltage'] = df['voltage'].where(df['voltage'] >= 6000, np.nan)\n",
    "        df['voltage'] = df['voltage'].where(df['voltage'] <= 8000, np.nan)\n",
    "        df['voltage'] = df['voltage'].ffill()\n",
    "        df['voltage'] = lowpass_filter(df['voltage'], cutoff_frequency, sampling_frequency)\n",
    "        df['voltage'] = df['voltage'].rolling(window=5, min_periods=1).mean()  \n",
    "        \n",
    "    def remove_seq_variability(df: pd.DataFrame):\n",
    "        ''' # Description\n",
    "        Remove the sequence-to-sequence variability.\n",
    "        '''\n",
    "        # Tranform the features relative to the first data point.\n",
    "        df['temperature'] = df['temperature'] - df['temperature'].iloc[0]\n",
    "        df['voltage'] = df['voltage'] - df['voltage'].iloc[0]\n",
    "        df['position'] = df['position'] - df['position'].iloc[0]\n",
    "\n",
    "    # Start processing.\n",
    "    #lowpass_filter(df,cutoff_frequency,sampling_frequency)\n",
    "    customized_outlier_removal(df)\n",
    "    #remove_seq_variability(df)\n",
    "\n",
    "# Ignore warnings.\n",
    "warnings.filterwarnings('ignore')\n",
    "\n",
    "base_dictionary = '../../dataset/training_data/'\n",
    "df_train = read_all_test_data_from_path(base_dictionary, pre_processing, is_plot=False)"
   ]
  },
  {
   "cell_type": "code",
   "execution_count": 91,
   "metadata": {},
   "outputs": [],
   "source": [
    "# Pre-train the model.\n",
    "# Get all the normal data\n",
    "normal_test_id = ['20240105_164214',\n",
    "    '20240105_165300',\n",
    "    '20240105_165972',\n",
    "    '20240320_152031',\n",
    "    '20240320_153841',\n",
    "    '20240320_155664',\n",
    "    '20240321_122650',\n",
    "    '20240325_135213',\n",
    "    '20240325_152902',\n",
    "    '20240426_141190',\n",
    "    '20240426_141532',\n",
    "    '20240426_141602',\n",
    "    '20240426_141726',\n",
    "    '20240426_141938',\n",
    "    '20240426_141980',\n",
    "    '20240503_163963',\n",
    "    '20240503_164435',\n",
    "    '20240503_164675',\n",
    "    '20240503_165189'\n",
    "]\n",
    "\n",
    "\n",
    "### After collect data : \n",
    "\n",
    "normal_test_id = ['20240105_164214',\n",
    "    '20240105_165300',\n",
    "    '20240105_165972',\n",
    "    '20240320_152031',\n",
    "    '20240320_153841',\n",
    "    '20240320_155664',\n",
    "    '20240321_122650',\n",
    "    '20240325_135213',\n",
    "    '20240325_152902',\n",
    "    '20240426_141190',\n",
    "    '20240426_141532',\n",
    "    '20240426_141602',\n",
    "    '20240426_141726',\n",
    "    '20240426_141938',\n",
    "    '20240426_141980',\n",
    "    '20240503_163963',\n",
    "    '20240503_164435',\n",
    "    '20240503_164675',\n",
    "    '20240503_165189',\n",
    "    '20240529_122361',\n",
    "    '20240529_122994',\n",
    "    '20240529_123223',\n",
    "    '20240529_123430',\n",
    "    '20240529_124333',\n",
    "    '20240529_125896',\n",
    "    '20240529_130680',\n",
    "    '20240529_131085',\n",
    "    '20240529_131373',\n",
    "    '20240529_131558',\n",
    "    '20240529_131755',\n",
    "    '20240529_132509',\n",
    "    '20240529_133879'\n",
    "    \n",
    "]\n",
    "\n",
    "df_experiment = df_train[df_train['test_condition'].isin(normal_test_id)]"
   ]
  },
  {
   "cell_type": "markdown",
   "metadata": {},
   "source": [
    "### Testing data."
   ]
  },
  {
   "cell_type": "code",
   "execution_count": 92,
   "metadata": {},
   "outputs": [],
   "source": [
    "# Read all the dataset. Change to your dictionary if needed.\n",
    "base_dictionary = '../../dataset/testing_data/'\n",
    "df_test = read_all_test_data_from_path(base_dictionary, pre_processing, is_plot=False)"
   ]
  },
  {
   "cell_type": "markdown",
   "metadata": {},
   "source": [
    "## Training the regression model."
   ]
  },
  {
   "cell_type": "code",
   "execution_count": 101,
   "metadata": {},
   "outputs": [],
   "source": [
    "def run_all_motors_validation(motor_label, drop_list):\n",
    "    feature_list_all = df_experiment.drop(columns=drop_list + [\"test_condition\"] + label_columns).columns.tolist()\n",
    "\n",
    "    # Prepare feature and response of the training dataset.\n",
    "    x_tr_org, y_temp_tr_org = extract_selected_feature(df_data=df_experiment, feature_list=feature_list_all, motor_idx=motor_label, mdl_type='reg')\n",
    "\n",
    "    # Enrich the features based on the sliding window.\n",
    "    window_size = 70\n",
    "    sample_step = 30\n",
    "    prediction_lead_time = 5 \n",
    "    threshold = .9\n",
    "    abnormal_limit = 3\n",
    "\n",
    "    x_tr, y_temp_tr = prepare_sliding_window(df_x=x_tr_org, y=y_temp_tr_org, window_size=window_size, sample_step=sample_step, prediction_lead_time=prediction_lead_time, mdl_type='reg')\n",
    "    \n",
    "    warnings.filterwarnings('ignore')\n",
    "    \n",
    "    # Initialize models\n",
    "    models = {\n",
    "        'Linear Regression': LinearRegression(),\n",
    "        'Ridge Regression': Ridge(),\n",
    "        'Lasso Regression': Lasso(),\n",
    "        'ElasticNet Regression': ElasticNet(),\n",
    "        'Decision Tree Regression': DecisionTreeRegressor()\n",
    "    }\n",
    "    \n",
    "    # Define hyperparameter grids\n",
    "    #param_grids = {\n",
    "        #'Linear Regression': {},  \n",
    "        #'Ridge Regression': {'max_iter': [10, 15]},\n",
    "        #'Lasso Regression': {'max_iter': [10, 15]},\n",
    "        #'ElasticNet Regression': {'alpha': [0.001, 0.01, 0.1, 1], 'l1_ratio': [0.001, 0.01, 0.1, 1]}, \n",
    "        #'Decision Tree Regression': {'max_depth': [2, 3, 4], 'min_samples_split': [2, 3, 4]}\n",
    "    #}\n",
    "    \n",
    "    param_grids = {\n",
    "        'Linear Regression': {},  \n",
    "        'Ridge Regression': {'max_iter' :[10]},\n",
    "        'Lasso Regression': {'alpha': [0.001, 0.01, 0.1, 1, 10]},\n",
    "        'ElasticNet Regression': {'alpha': [0.001, 1, 10], 'l1_ratio': [0.001, 1, 10]}, \n",
    "        'Decision Tree Regression': {}\n",
    "    }\n",
    "    \n",
    "    model_predictions = {}\n",
    "    best_params = {}\n",
    "    \n",
    "    # Perform cross-validation, hyperparameter tuning, and evaluation\n",
    "    for model_name, model in models.items():\n",
    "        \n",
    "        pipeline = Pipeline([\n",
    "            ('scaler', MinMaxScaler()), # Step 1 : Normalization\n",
    "            ('model', model)\n",
    "        ])\n",
    "        param_grid = {f'model__{key}': value for key, value in param_grids[model_name].items()}\n",
    "        \n",
    "        # Hyperparameter tuning\n",
    "        grid_search = GridSearchCV(pipeline, param_grid, cv=5, scoring='f1', n_jobs=-1)\n",
    "        #grid_search = GridSearchCV(model, param_grids[model_name], cv=5, scoring='f1')\n",
    "        grid_search.fit(x_tr, y_temp_tr)\n",
    "        mdl = grid_search.best_estimator_\n",
    "        best_params[model_name] = grid_search.best_params_\n",
    "        \n",
    "        # Define the fault detector.\n",
    "        detector_reg = FaultDetectReg(reg_mdl=mdl, threshold=threshold, abnormal_limit=abnormal_limit, window_size=window_size, sample_step=sample_step, pred_lead_time=prediction_lead_time)\n",
    "        \n",
    "        # Prepare the testing data.\n",
    "        x_test_org, y_temp_test_org = extract_selected_feature(df_data=df_test, feature_list=feature_list_all, motor_idx=motor_label, mdl_type='reg')\n",
    "        \n",
    "        \n",
    "        # Make predicition.\n",
    "        y_pred, y_response_test_pred = detector_reg.predict(df_x_test=x_test_org, y_response_test=y_temp_test_org, complement_truncation=True)\n",
    "        \n",
    "        model_predictions[f'y_pred_{model_name.replace(\" \", \"_\")}'] = y_pred \n",
    "    \n",
    "    return model_predictions, best_params\n"
   ]
  },
  {
   "cell_type": "markdown",
   "metadata": {},
   "source": [
    "# Motor 1"
   ]
  },
  {
   "cell_type": "markdown",
   "metadata": {},
   "source": [
    "Feature Selection"
   ]
  },
  {
   "cell_type": "code",
   "execution_count": 102,
   "metadata": {},
   "outputs": [],
   "source": [
    "drop_list1_label1 = ['data_motor_2_voltage', 'data_motor_3_voltage', 'data_motor_4_voltage', 'data_motor_5_voltage', 'data_motor_6_voltage', 'data_motor_6_position']\n",
    "\n",
    "drop_list2_label1 = []"
   ]
  },
  {
   "cell_type": "code",
   "execution_count": 103,
   "metadata": {},
   "outputs": [
    {
     "name": "stderr",
     "output_type": "stream",
     "text": [
      "100%|██████████| 8/8 [00:09<00:00,  1.15s/it]\n",
      "100%|██████████| 8/8 [00:08<00:00,  1.12s/it]\n",
      "100%|██████████| 8/8 [00:11<00:00,  1.43s/it]\n",
      "100%|██████████| 8/8 [00:10<00:00,  1.29s/it]\n",
      "100%|██████████| 8/8 [00:09<00:00,  1.21s/it]\n"
     ]
    }
   ],
   "source": [
    "#model_predictions, best_params1 = run_all_motors_validation(1, drop_list1_label1)\n",
    "model_predictions, best_params1 = run_all_motors_validation(1, drop_list2_label1)\n",
    "y_pred1_Linear_Regression = model_predictions['y_pred_Linear_Regression']\n",
    "y_pred1_Ridge_Regression = model_predictions['y_pred_Ridge_Regression']\n",
    "y_pred1_Lasso_Regression = model_predictions['y_pred_Lasso_Regression']\n",
    "y_pred1_ElasticNet_Regression= model_predictions['y_pred_ElasticNet_Regression']\n",
    "y_pred1_Decision_Tree_Regression= model_predictions['y_pred_Decision_Tree_Regression']"
   ]
  },
  {
   "cell_type": "code",
   "execution_count": 104,
   "metadata": {},
   "outputs": [
    {
     "data": {
      "text/plain": [
       "{'Linear Regression': {},\n",
       " 'Ridge Regression': {'model__max_iter': 10},\n",
       " 'Lasso Regression': {'model__alpha': 0.001},\n",
       " 'ElasticNet Regression': {'model__alpha': 0.001, 'model__l1_ratio': 0.001},\n",
       " 'Decision Tree Regression': {}}"
      ]
     },
     "execution_count": 104,
     "metadata": {},
     "output_type": "execute_result"
    }
   ],
   "source": [
    "best_params1"
   ]
  },
  {
   "cell_type": "markdown",
   "metadata": {},
   "source": [
    "# Motor 2"
   ]
  },
  {
   "cell_type": "markdown",
   "metadata": {},
   "source": [
    "Feature Selection"
   ]
  },
  {
   "cell_type": "code",
   "execution_count": 105,
   "metadata": {},
   "outputs": [],
   "source": [
    "drop_list1_label2 = ['data_motor_2_voltage', 'data_motor_3_voltage', 'data_motor_4_voltage', 'data_motor_5_voltage', 'data_motor_6_voltage', 'data_motor_5_temperature']\n",
    "\n",
    "drop_list2_label2 = []"
   ]
  },
  {
   "cell_type": "code",
   "execution_count": 106,
   "metadata": {},
   "outputs": [
    {
     "name": "stderr",
     "output_type": "stream",
     "text": [
      "100%|██████████| 8/8 [00:09<00:00,  1.17s/it]\n",
      "100%|██████████| 8/8 [00:09<00:00,  1.20s/it]\n",
      "100%|██████████| 8/8 [00:09<00:00,  1.18s/it]\n",
      "100%|██████████| 8/8 [00:09<00:00,  1.20s/it]\n",
      "100%|██████████| 8/8 [00:09<00:00,  1.21s/it]\n"
     ]
    }
   ],
   "source": [
    "#model_predictions, best_params2 = run_all_motors_validation(2, drop_list1_label2)\n",
    "model_predictions, best_params2 = run_all_motors_validation(2, drop_list2_label2)\n",
    "\n",
    "y_pred2_Linear_Regression = model_predictions['y_pred_Linear_Regression']\n",
    "y_pred2_Ridge_Regression = model_predictions['y_pred_Ridge_Regression']\n",
    "y_pred2_Lasso_Regression = model_predictions['y_pred_Lasso_Regression']\n",
    "y_pred2_ElasticNet_Regression= model_predictions['y_pred_ElasticNet_Regression']\n",
    "y_pred2_Decision_Tree_Regression= model_predictions['y_pred_Decision_Tree_Regression']"
   ]
  },
  {
   "cell_type": "code",
   "execution_count": 107,
   "metadata": {},
   "outputs": [
    {
     "data": {
      "text/plain": [
       "{'Linear Regression': {},\n",
       " 'Ridge Regression': {'model__max_iter': 10},\n",
       " 'Lasso Regression': {'model__alpha': 0.001},\n",
       " 'ElasticNet Regression': {'model__alpha': 0.001, 'model__l1_ratio': 0.001},\n",
       " 'Decision Tree Regression': {}}"
      ]
     },
     "execution_count": 107,
     "metadata": {},
     "output_type": "execute_result"
    }
   ],
   "source": [
    "best_params2"
   ]
  },
  {
   "cell_type": "markdown",
   "metadata": {},
   "source": [
    "# Motor 3"
   ]
  },
  {
   "cell_type": "markdown",
   "metadata": {},
   "source": [
    "Feature Selection\n"
   ]
  },
  {
   "cell_type": "code",
   "execution_count": 108,
   "metadata": {},
   "outputs": [],
   "source": [
    "drop_list1_label3 = ['data_motor_2_voltage', 'data_motor_3_voltage', 'data_motor_4_voltage', 'data_motor_5_voltage', 'data_motor_6_voltage']\n",
    "drop_list2_label3 = []"
   ]
  },
  {
   "cell_type": "code",
   "execution_count": 109,
   "metadata": {},
   "outputs": [
    {
     "name": "stderr",
     "output_type": "stream",
     "text": [
      "100%|██████████| 8/8 [00:18<00:00,  2.26s/it]\n",
      "100%|██████████| 8/8 [00:12<00:00,  1.51s/it]\n",
      "100%|██████████| 8/8 [00:10<00:00,  1.25s/it]\n",
      "100%|██████████| 8/8 [00:08<00:00,  1.09s/it]\n",
      "100%|██████████| 8/8 [00:08<00:00,  1.05s/it]\n"
     ]
    }
   ],
   "source": [
    "#model_predictions, best_params3 = run_all_motors_validation(3, drop_list1_label3)\n",
    "model_predictions, best_params3 = run_all_motors_validation(3, drop_list2_label3)\n",
    "y_pred3_Linear_Regression = model_predictions['y_pred_Linear_Regression']\n",
    "y_pred3_Ridge_Regression = model_predictions['y_pred_Ridge_Regression']\n",
    "y_pred3_Lasso_Regression = model_predictions['y_pred_Lasso_Regression']\n",
    "y_pred3_ElasticNet_Regression= model_predictions['y_pred_ElasticNet_Regression']\n",
    "y_pred3_Decision_Tree_Regression= model_predictions['y_pred_Decision_Tree_Regression']"
   ]
  },
  {
   "cell_type": "code",
   "execution_count": 110,
   "metadata": {},
   "outputs": [
    {
     "data": {
      "text/plain": [
       "{'Linear Regression': {},\n",
       " 'Ridge Regression': {'model__max_iter': 10},\n",
       " 'Lasso Regression': {'model__alpha': 0.001},\n",
       " 'ElasticNet Regression': {'model__alpha': 0.001, 'model__l1_ratio': 0.001},\n",
       " 'Decision Tree Regression': {}}"
      ]
     },
     "execution_count": 110,
     "metadata": {},
     "output_type": "execute_result"
    }
   ],
   "source": [
    "best_params3"
   ]
  },
  {
   "cell_type": "markdown",
   "metadata": {},
   "source": [
    "# Motor 4"
   ]
  },
  {
   "cell_type": "markdown",
   "metadata": {},
   "source": [
    "Feature Selection"
   ]
  },
  {
   "cell_type": "code",
   "execution_count": 111,
   "metadata": {},
   "outputs": [],
   "source": [
    "drop_list1_label4= ['data_motor_2_voltage', 'data_motor_3_voltage', 'data_motor_4_voltage', 'data_motor_5_voltage', 'data_motor_6_voltage', 'data_motor_5_temperature']\n",
    "drop_list2_label4 = []"
   ]
  },
  {
   "cell_type": "code",
   "execution_count": 112,
   "metadata": {},
   "outputs": [
    {
     "name": "stderr",
     "output_type": "stream",
     "text": [
      "100%|██████████| 8/8 [00:20<00:00,  2.54s/it]\n",
      "100%|██████████| 8/8 [00:17<00:00,  2.19s/it]\n",
      "100%|██████████| 8/8 [00:20<00:00,  2.51s/it]\n",
      "100%|██████████| 8/8 [00:24<00:00,  3.11s/it]\n",
      "100%|██████████| 8/8 [00:25<00:00,  3.17s/it]\n"
     ]
    }
   ],
   "source": [
    "# model_predictions,best_params4 = run_all_motors_validation(4, drop_list1_label4)\n",
    "model_predictions,best_params4 = run_all_motors_validation(4, drop_list2_label4)\n",
    "\n",
    "y_pred4_Linear_Regression = model_predictions['y_pred_Linear_Regression']\n",
    "y_pred4_Ridge_Regression = model_predictions['y_pred_Ridge_Regression']\n",
    "y_pred4_Lasso_Regression = model_predictions['y_pred_Lasso_Regression']\n",
    "y_pred4_ElasticNet_Regression= model_predictions['y_pred_ElasticNet_Regression']\n",
    "y_pred4_Decision_Tree_Regression= model_predictions['y_pred_Decision_Tree_Regression']"
   ]
  },
  {
   "cell_type": "code",
   "execution_count": 113,
   "metadata": {},
   "outputs": [
    {
     "data": {
      "text/plain": [
       "{'Linear Regression': {},\n",
       " 'Ridge Regression': {'model__max_iter': 10},\n",
       " 'Lasso Regression': {'model__alpha': 0.001},\n",
       " 'ElasticNet Regression': {'model__alpha': 0.001, 'model__l1_ratio': 0.001},\n",
       " 'Decision Tree Regression': {}}"
      ]
     },
     "execution_count": 113,
     "metadata": {},
     "output_type": "execute_result"
    }
   ],
   "source": [
    "best_params4"
   ]
  },
  {
   "cell_type": "markdown",
   "metadata": {},
   "source": [
    "# Motor 5"
   ]
  },
  {
   "cell_type": "markdown",
   "metadata": {},
   "source": [
    "Feature Selection"
   ]
  },
  {
   "cell_type": "code",
   "execution_count": 114,
   "metadata": {},
   "outputs": [],
   "source": [
    "drop_list1_label5 = ['data_motor_2_voltage', 'data_motor_3_voltage', 'data_motor_4_voltage', 'data_motor_5_voltage', 'data_motor_6_voltage']\n",
    "drop_list2_label5 = []"
   ]
  },
  {
   "cell_type": "code",
   "execution_count": 115,
   "metadata": {},
   "outputs": [
    {
     "name": "stderr",
     "output_type": "stream",
     "text": [
      "100%|██████████| 8/8 [00:26<00:00,  3.27s/it]\n",
      "100%|██████████| 8/8 [00:26<00:00,  3.29s/it]\n",
      "100%|██████████| 8/8 [00:14<00:00,  1.79s/it]\n",
      "100%|██████████| 8/8 [00:18<00:00,  2.34s/it]\n",
      "100%|██████████| 8/8 [00:16<00:00,  2.10s/it]\n"
     ]
    }
   ],
   "source": [
    "# model_predictions,best_params5 = run_all_motors_validation(5, drop_list1_label5)\n",
    "model_predictions,best_params5 = run_all_motors_validation(5, drop_list2_label5)\n",
    "\n",
    "y_pred5_Linear_Regression = model_predictions['y_pred_Linear_Regression']\n",
    "y_pred5_Ridge_Regression = model_predictions['y_pred_Ridge_Regression']\n",
    "y_pred5_Lasso_Regression = model_predictions['y_pred_Lasso_Regression']\n",
    "y_pred5_ElasticNet_Regression= model_predictions['y_pred_ElasticNet_Regression']\n",
    "y_pred5_Decision_Tree_Regression= model_predictions['y_pred_Decision_Tree_Regression']"
   ]
  },
  {
   "cell_type": "code",
   "execution_count": 116,
   "metadata": {},
   "outputs": [
    {
     "data": {
      "text/plain": [
       "{'Linear Regression': {},\n",
       " 'Ridge Regression': {'model__max_iter': 10},\n",
       " 'Lasso Regression': {'model__alpha': 0.001},\n",
       " 'ElasticNet Regression': {'model__alpha': 0.001, 'model__l1_ratio': 0.001},\n",
       " 'Decision Tree Regression': {}}"
      ]
     },
     "execution_count": 116,
     "metadata": {},
     "output_type": "execute_result"
    }
   ],
   "source": [
    "best_params5"
   ]
  },
  {
   "cell_type": "markdown",
   "metadata": {},
   "source": [
    "# Motor 6"
   ]
  },
  {
   "cell_type": "markdown",
   "metadata": {},
   "source": [
    "Feature Selection"
   ]
  },
  {
   "cell_type": "code",
   "execution_count": 117,
   "metadata": {},
   "outputs": [],
   "source": [
    "drop_list1_label6 = ['data_motor_2_voltage', 'data_motor_3_voltage', 'data_motor_4_voltage', 'data_motor_5_voltage', 'data_motor_6_voltage', 'data_motor_6_position']\n",
    "drop_list2_label6 = []"
   ]
  },
  {
   "cell_type": "code",
   "execution_count": 118,
   "metadata": {},
   "outputs": [
    {
     "name": "stderr",
     "output_type": "stream",
     "text": [
      "100%|██████████| 8/8 [00:15<00:00,  1.89s/it]\n",
      "100%|██████████| 8/8 [00:14<00:00,  1.79s/it]\n",
      "100%|██████████| 8/8 [00:17<00:00,  2.24s/it]\n",
      "100%|██████████| 8/8 [00:15<00:00,  1.91s/it]\n",
      "100%|██████████| 8/8 [00:21<00:00,  2.71s/it]\n"
     ]
    }
   ],
   "source": [
    "# model_predictions,best_params6 = run_all_motors_validation(6, drop_list1_label6)\n",
    "model_predictions,best_params6 = run_all_motors_validation(6, drop_list2_label6)\n",
    "\n",
    "y_pred6_Linear_Regression = model_predictions['y_pred_Linear_Regression']\n",
    "y_pred6_Ridge_Regression = model_predictions['y_pred_Ridge_Regression']\n",
    "y_pred6_Lasso_Regression = model_predictions['y_pred_Lasso_Regression']\n",
    "y_pred6_ElasticNet_Regression= model_predictions['y_pred_ElasticNet_Regression']\n",
    "y_pred6_Decision_Tree_Regression= model_predictions['y_pred_Decision_Tree_Regression']"
   ]
  },
  {
   "cell_type": "code",
   "execution_count": 119,
   "metadata": {},
   "outputs": [
    {
     "data": {
      "text/plain": [
       "{'Linear Regression': {},\n",
       " 'Ridge Regression': {'model__max_iter': 10},\n",
       " 'Lasso Regression': {'model__alpha': 0.001},\n",
       " 'ElasticNet Regression': {'model__alpha': 0.001, 'model__l1_ratio': 0.001},\n",
       " 'Decision Tree Regression': {}}"
      ]
     },
     "execution_count": 119,
     "metadata": {},
     "output_type": "execute_result"
    }
   ],
   "source": [
    "best_params6"
   ]
  },
  {
   "cell_type": "markdown",
   "metadata": {},
   "source": [
    "## Create csv file for submit Prediction"
   ]
  },
  {
   "cell_type": "markdown",
   "metadata": {},
   "source": [
    "Linear_Regression"
   ]
  },
  {
   "cell_type": "code",
   "execution_count": 120,
   "metadata": {},
   "outputs": [],
   "source": [
    "data_Linear_Regression = {\n",
    "    'idx': range(len(y_pred1_Linear_Regression)),\n",
    "    'data_motor_1_label': y_pred1_Linear_Regression,\n",
    "    'data_motor_2_label': y_pred2_Linear_Regression,\n",
    "    'data_motor_3_label': y_pred3_Linear_Regression,\n",
    "    'data_motor_4_label': y_pred4_Linear_Regression,\n",
    "    'data_motor_5_label': y_pred5_Linear_Regression,\n",
    "    'data_motor_6_label': y_pred6_Linear_Regression\n",
    "}\n",
    "\n",
    "df_Linear_Regression = pd.DataFrame(data_Linear_Regression)\n",
    "\n",
    "df_Linear_Regression.to_csv('motor_predictions_Linear_Regression.csv', index=False)"
   ]
  },
  {
   "cell_type": "markdown",
   "metadata": {},
   "source": [
    "Ridge_Regression"
   ]
  },
  {
   "cell_type": "code",
   "execution_count": 121,
   "metadata": {},
   "outputs": [],
   "source": [
    "data_Ridge_Regression = {\n",
    "    'idx': range(len(y_pred1_Ridge_Regression)),\n",
    "    'data_motor_1_label': y_pred1_Ridge_Regression,\n",
    "    'data_motor_2_label': y_pred2_Ridge_Regression,\n",
    "    'data_motor_3_label': y_pred3_Ridge_Regression,\n",
    "    'data_motor_4_label': y_pred4_Ridge_Regression,\n",
    "    'data_motor_5_label': y_pred5_Ridge_Regression,\n",
    "    'data_motor_6_label': y_pred6_Ridge_Regression\n",
    "}\n",
    "\n",
    "df_Ridge_Regression = pd.DataFrame(data_Ridge_Regression)\n",
    "\n",
    "df_Ridge_Regression.to_csv('motor_predictions_Ridge_Regression.csv', index=False)"
   ]
  },
  {
   "cell_type": "markdown",
   "metadata": {},
   "source": [
    "Lasso_Regression"
   ]
  },
  {
   "cell_type": "code",
   "execution_count": 122,
   "metadata": {},
   "outputs": [],
   "source": [
    "data_Lasso_Regression = {\n",
    "    'idx': range(len(y_pred1_Linear_Regression)),\n",
    "    'data_motor_1_label': y_pred1_Lasso_Regression,\n",
    "    'data_motor_2_label': y_pred2_Lasso_Regression,\n",
    "    'data_motor_3_label': y_pred3_Lasso_Regression,\n",
    "    'data_motor_4_label': y_pred4_Lasso_Regression,\n",
    "    'data_motor_5_label': y_pred5_Lasso_Regression,\n",
    "    'data_motor_6_label': y_pred6_Lasso_Regression\n",
    "}\n",
    "\n",
    "df_Lasso_Regression = pd.DataFrame(data_Lasso_Regression)\n",
    "\n",
    "df_Lasso_Regression.to_csv('motor_predictions_Lasso_Regression.csv', index=False)"
   ]
  },
  {
   "cell_type": "markdown",
   "metadata": {},
   "source": [
    "ElasticNet_Regression"
   ]
  },
  {
   "cell_type": "code",
   "execution_count": 123,
   "metadata": {},
   "outputs": [],
   "source": [
    "data_ElasticNet_Regression = {\n",
    "    'idx': range(len(y_pred1_ElasticNet_Regression)),\n",
    "    'data_motor_1_label': y_pred1_ElasticNet_Regression,\n",
    "    'data_motor_2_label': y_pred2_ElasticNet_Regression,\n",
    "    'data_motor_3_label': y_pred3_ElasticNet_Regression,\n",
    "    'data_motor_4_label': y_pred4_ElasticNet_Regression,\n",
    "    'data_motor_5_label': y_pred5_ElasticNet_Regression,\n",
    "    'data_motor_6_label': y_pred6_ElasticNet_Regression\n",
    "}\n",
    "\n",
    "df_ElasticNet_Regression = pd.DataFrame(data_ElasticNet_Regression)\n",
    "\n",
    "df_ElasticNet_Regression.to_csv('motor_predictions_ElasticNet_Regression.csv', index=False)"
   ]
  },
  {
   "cell_type": "markdown",
   "metadata": {},
   "source": [
    "Decision_Tree_Regression"
   ]
  },
  {
   "cell_type": "code",
   "execution_count": 124,
   "metadata": {},
   "outputs": [],
   "source": [
    "data_Decision_Tree_Regression = {\n",
    "    'idx': range(len(y_pred1_Decision_Tree_Regression)),\n",
    "    'data_motor_1_label': y_pred1_Decision_Tree_Regression,\n",
    "    'data_motor_2_label': y_pred2_Decision_Tree_Regression,\n",
    "    'data_motor_3_label': y_pred3_Decision_Tree_Regression,\n",
    "    'data_motor_4_label': y_pred4_Decision_Tree_Regression,\n",
    "    'data_motor_5_label': y_pred5_Decision_Tree_Regression,\n",
    "    'data_motor_6_label': y_pred6_Decision_Tree_Regression\n",
    "}\n",
    "\n",
    "df_Decision_Tree_Regression = pd.DataFrame(data_Decision_Tree_Regression)\n",
    "\n",
    "df_Decision_Tree_Regression.to_csv('motor_predictions_Decision_Tree_Regression.csv', index=False)"
   ]
  },
  {
   "cell_type": "markdown",
   "metadata": {},
   "source": [
    "# Best scores"
   ]
  },
  {
   "cell_type": "markdown",
   "metadata": {},
   "source": [
    " 1) Ridge regression (F1 : 0.37)  :  \n",
    " \n",
    " - no collected data\n",
    " - customized_removed_outliers\n",
    " - all features ; \n",
    " - (max_iter': 10) ; \n",
    "\n",
    " - window_size = 70\n",
    " - sample_step = 30\n",
    " - prediction_lead_time = 5 \n",
    " - threshold = .9\n",
    " - abnormal_limit = 3"
   ]
  }
 ],
 "metadata": {
  "kernelspec": {
   "display_name": "Python 3",
   "language": "python",
   "name": "python3"
  },
  "language_info": {
   "codemirror_mode": {
    "name": "ipython",
    "version": 3
   },
   "file_extension": ".py",
   "mimetype": "text/x-python",
   "name": "python",
   "nbconvert_exporter": "python",
   "pygments_lexer": "ipython3",
   "version": "3.11.7"
  }
 },
 "nbformat": 4,
 "nbformat_minor": 2
}
