{
 "cells": [
  {
   "cell_type": "markdown",
   "metadata": {},
   "source": [
    "# Kaggle Regression\n",
    "\n"
   ]
  },
  {
   "cell_type": "markdown",
   "metadata": {},
   "source": [
    "### Libraries"
   ]
  },
  {
   "cell_type": "code",
   "execution_count": 24,
   "metadata": {},
   "outputs": [],
   "source": [
    "import pandas as pd\n",
    "import numpy as np\n",
    "import os\n",
    "import matplotlib.pyplot as plt\n",
    "%matplotlib inline\n",
    "from sklearn.preprocessing import MinMaxScaler\n",
    "from sklearn.preprocessing import StandardScaler\n",
    "import seaborn as sns\n",
    "from sklearn.model_selection import GridSearchCV\n",
    "from sklearn.model_selection import train_test_split\n",
    "from sklearn.model_selection import KFold\n",
    "from sklearn.model_selection import cross_val_score\n",
    "from sklearn.svm import SVC\n",
    "from sklearn.pipeline import Pipeline\n",
    "import warnings\n",
    "from scipy.signal import butter, filtfilt\n",
    "\n",
    "from utility import read_all_csvs_one_test\n",
    "from utility import run_cv_one_motor\n",
    "from utility import read_all_test_data_from_path\n",
    "from utility import read_all_test_data_from_path, show_reg_result,extract_selected_feature, prepare_sliding_window, FaultDetectReg\n",
    "\n",
    "from sklearn.linear_model import LinearRegression, Ridge, Lasso, ElasticNet\n",
    "from sklearn.tree import DecisionTreeRegressor\n",
    "from sklearn.feature_selection import f_regression\n"
   ]
  },
  {
   "cell_type": "markdown",
   "metadata": {},
   "source": [
    "### Read data and pre_processing"
   ]
  },
  {
   "cell_type": "code",
   "execution_count": 31,
   "metadata": {},
   "outputs": [],
   "source": [
    "n_int = 20\n",
    "\n",
    "# Subfunction for data preprocessing.\n",
    "def pre_processing(df: pd.DataFrame):\n",
    "    ''' ### Description\n",
    "    Preprocess the data:\n",
    "    - remove outliers\n",
    "    - add new features about the difference between the current and previous n data point.\n",
    "    '''\n",
    "    \n",
    "    # Function to design a Butterworth low-pass filter\n",
    "    def butter_lowpass(cutoff, fs, order=5):\n",
    "        nyquist = 0.5 * fs\n",
    "        normal_cutoff = cutoff / nyquist\n",
    "        b, a = butter(order, normal_cutoff, btype='low', analog=False)\n",
    "        return b, a\n",
    "\n",
    "\n",
    "    # Function to apply the Butterworth low-pass filter\n",
    "    def lowpass_filter(data, cutoff_freq, sampling_freq, order=5):\n",
    "        b, a = butter_lowpass(cutoff_freq, sampling_freq, order=order)\n",
    "        filtered_data = filtfilt(b, a, data)\n",
    "        return filtered_data\n",
    "\n",
    "\n",
    "    # Set parameters for the low-pass filter\n",
    "    cutoff_frequency = .8  # Adjust as needed\n",
    "    sampling_frequency = 10  # Assuming your data is evenly spaced in time\n",
    "\n",
    "\n",
    "    def customized_outlier_removal(df: pd.DataFrame):\n",
    "        ''' # Description\n",
    "        Remove outliers from the dataframe based on defined valid ranges. \n",
    "        Define a valid range of temperature and voltage. \n",
    "        Use ffil function to replace the invalid measurement with the previous value.\n",
    "        '''\n",
    "        df['position'] = df['position'].where(df['position'] <= 1000, np.nan)\n",
    "        df['position'] = df['position'].where(df['position'] >= 0, np.nan)\n",
    "        df['position'] = df['position'].ffill()\n",
    "        df['position'] = lowpass_filter(df['position'], cutoff_frequency, sampling_frequency)\n",
    "        df['position'] = df['position'].rolling(window=20, min_periods=1).mean()\n",
    "        df['position'] = df['position'].round()\n",
    "\n",
    "        df['temperature'] = df['temperature'].where(df['temperature'] <= 100, np.nan)\n",
    "        df['temperature'] = df['temperature'].where(df['temperature'] >= 0, np.nan)\n",
    "        df['temperature'] = df['temperature'].rolling(window=20, min_periods=1).mean()\n",
    "\n",
    "        # Make sure that the difference between the current and previous temperature cannot be too large.\n",
    "        # Define your threshold\n",
    "        threshold = 5\n",
    "        # Shift the 'temperature' column by one row to get the previous temperature\n",
    "        prev_tmp = df['temperature'].shift(1)\n",
    "        # Calculate the absolute difference between current and previous temperature\n",
    "        temp_diff = np.abs(df['temperature'] - prev_tmp)\n",
    "        # Set the temperature to NaN where the difference is larger than the threshold\n",
    "        df.loc[temp_diff > threshold, 'temperature'] = np.nan\n",
    "        df['temperature'] = df['temperature'].ffill()\n",
    "\n",
    "        df['voltage'] = df['voltage'].where(df['voltage'] >= 6000, np.nan)\n",
    "        df['voltage'] = df['voltage'].where(df['voltage'] <= 8000, np.nan)\n",
    "        df['voltage'] = df['voltage'].ffill()\n",
    "        df['voltage'] = lowpass_filter(df['voltage'], cutoff_frequency, sampling_frequency)\n",
    "        df['voltage'] = df['voltage'].rolling(window=5, min_periods=1).mean()  \n",
    "\n",
    "    # Start processing.\n",
    "    customized_outlier_removal(df)\n",
    "\n",
    "base_dictionary = '../../dataset/training_data/'\n",
    "df_data = read_all_test_data_from_path(base_dictionary, pre_processing, is_plot=False)"
   ]
  },
  {
   "cell_type": "code",
   "execution_count": null,
   "metadata": {},
   "outputs": [],
   "source": [
    "# Pre-train the model.\n",
    "# Get all the normal data.\n",
    "normal_test_id = ['20240105_164214', \n",
    "    '20240105_165300', \n",
    "    '20240105_165972', \n",
    "    '20240320_152031', \n",
    "    '20240320_153841', \n",
    "    '20240320_155664', \n",
    "    '20240321_122650', \n",
    "    '20240325_135213',\n",
    "    '20240325_152902', \n",
    "    '20240426_141190', \n",
    "    '20240426_141532', \n",
    "    '20240426_141602', \n",
    "    '20240426_141726', \n",
    "    '20240426_141938', \n",
    "    '20240426_141980', \n",
    "    '20240503_164435']\n",
    "\n",
    "df_tr = df_data[df_data['test_condition'].isin(normal_test_id)]"
   ]
  },
  {
   "cell_type": "markdown",
   "metadata": {},
   "source": [
    "Test data"
   ]
  },
  {
   "cell_type": "code",
   "execution_count": null,
   "metadata": {},
   "outputs": [],
   "source": [
    "test_id = [\n",
    "    '20240325_155003',\n",
    "    '20240425_093699',\n",
    "    '20240425_094425',\n",
    "    '20240426_140055',\n",
    "    '20240503_163963',\n",
    "    '20240503_164675',\n",
    "    '20240503_165189'\n",
    "]\n",
    "df_test = df_data[df_data['test_condition'].isin(test_id)]"
   ]
  },
  {
   "cell_type": "markdown",
   "metadata": {},
   "source": [
    "### Feature Selection"
   ]
  },
  {
   "cell_type": "code",
   "execution_count": 12,
   "metadata": {},
   "outputs": [],
   "source": [
    "feature_list_all_0 = ['time',\n",
    "                 'data_motor_2_position', \n",
    "                'data_motor_3_position', \n",
    "                'data_motor_4_position', 'data_motor_3_temperature',\n",
    "                  'data_motor_6_temperature']\n",
    "\n",
    "feature_list_all = ['time', 'data_motor_1_position', 'data_motor_1_temperature','data_motor_1_voltage',\n",
    "       'data_motor_1_temperature_diff', 'data_motor_1_voltage_diff','data_motor_1_position_diff', \n",
    "       'data_motor_2_position','data_motor_2_temperature', 'data_motor_2_voltage', \n",
    "       'data_motor_2_temperature_diff', 'data_motor_2_voltage_diff', 'data_motor_2_position_diff',\n",
    "       'data_motor_3_position', 'data_motor_3_temperature','data_motor_3_voltage',\n",
    "       'data_motor_3_temperature_diff', 'data_motor_3_voltage_diff','data_motor_3_position_diff', \n",
    "       'data_motor_4_position','data_motor_4_temperature', 'data_motor_4_voltage',\n",
    "       'data_motor_4_temperature_diff', 'data_motor_4_voltage_diff', 'data_motor_4_position_diff',\n",
    "       'data_motor_5_position', 'data_motor_5_temperature','data_motor_5_voltage',\n",
    "       'data_motor_5_temperature_diff', 'data_motor_5_voltage_diff','data_motor_5_position_diff', \n",
    "       'data_motor_6_position', 'data_motor_6_temperature', 'data_motor_6_voltage',\n",
    "       'data_motor_6_temperature_diff', 'data_motor_6_voltage_diff', 'data_motor_6_position_diff']\n",
    "\n",
    "feature_list_all_2 = ['time','data_motor_1_position', 'data_motor_1_temperature',\n",
    "                'data_motor_2_position', 'data_motor_2_temperature',\n",
    "                'data_motor_3_position',\n",
    "                'data_motor_4_temperature',\n",
    "                'data_motor_5_position', 'data_motor_5_temperature', \n",
    "                'data_motor_6_position', 'data_motor_6_temperature', 'data_motor_6_voltage','data_motor_6_temperature_diff', 'data_motor_6_voltage_diff', 'data_motor_6_position_diff']\n",
    "\n",
    "feature_list_all_3 = ['time','data_motor_1_position', 'data_motor_1_temperature',\n",
    "                'data_motor_2_position', 'data_motor_2_temperature',\n",
    "                'data_motor_3_position','data_motor_3_temperature',\n",
    "                'data_motor_4_temperature','data_motor_4_position',\n",
    "                'data_motor_5_position', 'data_motor_5_temperature', 'data_motor_6_temperature', 'data_motor_6_voltage']\n",
    "\n",
    "selected_features= ['time','data_motor_1_position',  'data_motor_1_temperature', \n",
    "                    'data_motor_2_position',  \n",
    "                    'data_motor_3_position',  \n",
    "                    'data_motor_4_position', 'data_motor_4_temperature',\n",
    "                    'data_motor_5_position', 'data_motor_5_temperature',\n",
    "                    'data_motor_6_position', 'data_motor_6_temperature', \n",
    "                    'data_motor_1_voltage']"
   ]
  },
  {
   "cell_type": "markdown",
   "metadata": {},
   "source": [
    "# Motor 6"
   ]
  },
  {
   "cell_type": "code",
   "execution_count": 27,
   "metadata": {},
   "outputs": [],
   "source": [
    "def evaluate_model(name, steps,param_grid, features, window_size, sample_step, prediction_lead_time, threshold, abnormal_limit, n_fold=7):\n",
    "    print(f'Running model: {name}')\n",
    "    \n",
    "    x_tr_org, y_temp_tr_org = extract_selected_feature(df_data=df_tr, feature_list=features, motor_idx=6, mdl_type='reg')\n",
    "    \n",
    "    x_tr, y_temp_tr = prepare_sliding_window(df_x=x_tr_org, y=y_temp_tr_org, window_size=window_size, sample_step=sample_step, prediction_lead_time=prediction_lead_time, mdl_type='reg')\n",
    "    \n",
    "    pipeline = Pipeline(steps)\n",
    "    grid_search = GridSearchCV(pipeline, param_grid, cv=n_fold, scoring='f1', n_jobs=-1)\n",
    "    \n",
    "    grid_search.fit(x_tr, y_temp_tr)\n",
    "    best_model = grid_search.best_estimator_\n",
    "    \n",
    "    #mdl = Pipeline(steps).fit(x_tr, y_temp_tr)\n",
    "    \n",
    "    # Define the fault detector\n",
    "    detector_reg = FaultDetectReg(reg_mdl=best_model, threshold=threshold, abnormal_limit=abnormal_limit, window_size=window_size, sample_step=sample_step, pred_lead_time=prediction_lead_time)\n",
    "    \n",
    "    # # Run cross validation\n",
    "    n_fold = 7\n",
    "    _, y_label_test_org = extract_selected_feature(df_data=df_test, feature_list=features, motor_idx=6, mdl_type='clf')\n",
    "    \n",
    "    # test data\n",
    "    x_test_org, y_temp_test_org = extract_selected_feature(df_data=df_test, feature_list=features, motor_idx=6, mdl_type='reg')\n",
    "    \n",
    "    print(f'Best parameters for {name}: {grid_search.best_params_}')\n",
    "    \n",
    "    motor_idx = 6\n",
    "    print(f'Model for motor {motor_idx}:')\n",
    "    \n",
    "    # Run cross validation.\n",
    "    df_perf = detector_reg.run_cross_val(df_x=x_test_org, y_label=y_label_test_org, y_response=y_temp_test_org, \n",
    "                                        n_fold=n_fold,single_run_result=False)\n",
    "    \n",
    "    print(f'{name} performance:\\n{df_perf}\\n')\n",
    "    print('Mean performance metric and standard error:')\n",
    "    for metric, error in zip(df_perf.mean(), df_perf.std()):\n",
    "        print(f'{metric:.4f} +- {error:.4f}')\n",
    "    print('\\n')\n",
    "    return df_perf"
   ]
  },
  {
   "cell_type": "markdown",
   "metadata": {},
   "source": [
    "### Fault detection based on regression model "
   ]
  },
  {
   "cell_type": "code",
   "execution_count": 28,
   "metadata": {},
   "outputs": [
    {
     "name": "stdout",
     "output_type": "stream",
     "text": [
      "Running model: Linear Regression\n",
      "Best parameters for Linear Regression: {}\n",
      "Model for motor 6:\n"
     ]
    },
    {
     "name": "stderr",
     "output_type": "stream",
     "text": [
      "100%|██████████| 1/1 [00:04<00:00,  4.83s/it]\n",
      "100%|██████████| 1/1 [00:00<00:00, 13.06it/s]\n",
      "100%|██████████| 1/1 [00:00<00:00,  4.28it/s]\n",
      "100%|██████████| 1/1 [00:00<00:00,  1.88it/s]\n",
      "100%|██████████| 1/1 [00:00<00:00,  1.89it/s]\n",
      "100%|██████████| 1/1 [00:00<00:00,  4.02it/s]\n",
      "100%|██████████| 1/1 [00:00<00:00,  3.00it/s]\n"
     ]
    },
    {
     "name": "stdout",
     "output_type": "stream",
     "text": [
      "Linear Regression performance:\n",
      "   Accuracy  Precision    Recall  F1 score\n",
      "0  0.883870   0.416274  0.570275  0.481254\n",
      "1  0.787879   0.781250  0.914634  0.842697\n",
      "2  0.885033   0.895833  0.666667  0.764444\n",
      "3  0.971429   1.000000  0.571429  0.727273\n",
      "4  0.894286   0.847059  0.829971  0.838428\n",
      "5  0.838000   0.958621  0.868750  0.911475\n",
      "6  0.525074   0.319079  0.457547  0.375969\n",
      "\n",
      "Mean performance metric and standard error:\n",
      "0.8265 +- 0.1442\n",
      "0.7454 +- 0.2691\n",
      "0.6970 +- 0.1754\n",
      "0.7059 +- 0.2007\n",
      "\n",
      "\n",
      "Running model: Ridge Regression\n",
      "Best parameters for Ridge Regression: {'regressor__alpha': 1e-05}\n",
      "Model for motor 6:\n"
     ]
    },
    {
     "name": "stderr",
     "output_type": "stream",
     "text": [
      "100%|██████████| 1/1 [00:05<00:00,  5.14s/it]\n",
      "100%|██████████| 1/1 [00:00<00:00, 11.68it/s]\n",
      "100%|██████████| 1/1 [00:00<00:00,  3.59it/s]\n",
      "100%|██████████| 1/1 [00:00<00:00,  1.83it/s]\n",
      "100%|██████████| 1/1 [00:00<00:00,  1.77it/s]\n",
      "100%|██████████| 1/1 [00:00<00:00,  3.99it/s]\n",
      "100%|██████████| 1/1 [00:00<00:00,  2.84it/s]\n"
     ]
    },
    {
     "name": "stdout",
     "output_type": "stream",
     "text": [
      "Ridge Regression performance:\n",
      "   Accuracy  Precision    Recall  F1 score\n",
      "0  0.884786   0.419240  0.570275  0.483231\n",
      "1  0.787879   0.781250  0.914634  0.842697\n",
      "2  0.885033   0.895833  0.666667  0.764444\n",
      "3  0.971429   1.000000  0.571429  0.727273\n",
      "4  0.895238   0.849558  0.829971  0.839650\n",
      "5  0.838000   0.958621  0.868750  0.911475\n",
      "6  0.525074   0.319079  0.457547  0.375969\n",
      "\n",
      "Mean performance metric and standard error:\n",
      "0.8268 +- 0.1444\n",
      "0.7462 +- 0.2687\n",
      "0.6970 +- 0.1754\n",
      "0.7064 +- 0.2005\n",
      "\n",
      "\n",
      "Running model: Lasso Regression\n",
      "Best parameters for Lasso Regression: {'regressor__alpha': 1e-05}\n",
      "Model for motor 6:\n"
     ]
    },
    {
     "name": "stderr",
     "output_type": "stream",
     "text": [
      "100%|██████████| 1/1 [00:04<00:00,  4.98s/it]\n",
      "100%|██████████| 1/1 [00:00<00:00, 14.94it/s]\n",
      "100%|██████████| 1/1 [00:00<00:00,  4.28it/s]\n",
      "100%|██████████| 1/1 [00:00<00:00,  1.72it/s]\n",
      "100%|██████████| 1/1 [00:00<00:00,  1.58it/s]\n",
      "100%|██████████| 1/1 [00:00<00:00,  3.54it/s]\n",
      "100%|██████████| 1/1 [00:00<00:00,  2.57it/s]\n"
     ]
    },
    {
     "name": "stdout",
     "output_type": "stream",
     "text": [
      "Lasso Regression performance:\n",
      "   Accuracy  Precision    Recall  F1 score\n",
      "0  0.889669   0.432468  0.537964  0.479482\n",
      "1  0.780303   0.778947  0.902439  0.836158\n",
      "2  0.882863   0.894737  0.658915  0.758929\n",
      "3  0.967196   0.944444  0.539683  0.686869\n",
      "4  0.871429   0.789617  0.832853  0.810659\n",
      "5  0.828000   0.960280  0.856250  0.905286\n",
      "6  0.532448   0.324415  0.457547  0.379648\n",
      "\n",
      "Mean performance metric and standard error:\n",
      "0.8217 +- 0.1399\n",
      "0.7321 +- 0.2533\n",
      "0.6837 +- 0.1796\n",
      "0.6939 +- 0.1947\n",
      "\n",
      "\n",
      "Running model: ElasticNet Regression\n",
      "Best parameters for ElasticNet Regression: {'regressor__alpha': 1e-05, 'regressor__l1_ratio': 1e-05}\n",
      "Model for motor 6:\n"
     ]
    },
    {
     "name": "stderr",
     "output_type": "stream",
     "text": [
      "100%|██████████| 1/1 [00:04<00:00,  4.77s/it]\n",
      "100%|██████████| 1/1 [00:00<00:00, 11.96it/s]\n",
      "100%|██████████| 1/1 [00:00<00:00,  3.75it/s]\n",
      "100%|██████████| 1/1 [00:00<00:00,  1.94it/s]\n",
      "100%|██████████| 1/1 [00:00<00:00,  1.71it/s]\n",
      "100%|██████████| 1/1 [00:00<00:00,  3.75it/s]\n",
      "100%|██████████| 1/1 [00:00<00:00,  2.73it/s]\n"
     ]
    },
    {
     "name": "stdout",
     "output_type": "stream",
     "text": [
      "ElasticNet Regression performance:\n",
      "   Accuracy  Precision    Recall  F1 score\n",
      "0  0.888753   0.429124  0.537964  0.477419\n",
      "1  0.780303   0.778947  0.902439  0.836158\n",
      "2  0.882863   0.894737  0.658915  0.758929\n",
      "3  0.967196   0.944444  0.539683  0.686869\n",
      "4  0.871429   0.789617  0.832853  0.810659\n",
      "5  0.828000   0.960280  0.856250  0.905286\n",
      "6  0.532448   0.324415  0.457547  0.379648\n",
      "\n",
      "Mean performance metric and standard error:\n",
      "0.8216 +- 0.1398\n",
      "0.7317 +- 0.2540\n",
      "0.6837 +- 0.1796\n",
      "0.6936 +- 0.1951\n",
      "\n",
      "\n",
      "Running model: Decision Tree Regression\n",
      "Best parameters for Decision Tree Regression: {'regressor__max_depth': 2, 'regressor__min_samples_split': 2}\n",
      "Model for motor 6:\n"
     ]
    },
    {
     "name": "stderr",
     "output_type": "stream",
     "text": [
      "100%|██████████| 1/1 [00:04<00:00,  4.08s/it]\n",
      "100%|██████████| 1/1 [00:00<00:00, 19.98it/s]\n",
      "100%|██████████| 1/1 [00:00<00:00,  4.62it/s]\n",
      "100%|██████████| 1/1 [00:00<00:00,  2.14it/s]\n",
      "100%|██████████| 1/1 [00:00<00:00,  1.77it/s]\n",
      "100%|██████████| 1/1 [00:00<00:00,  3.72it/s]\n",
      "100%|██████████| 1/1 [00:00<00:00,  2.72it/s]"
     ]
    },
    {
     "name": "stdout",
     "output_type": "stream",
     "text": [
      "Decision Tree Regression performance:\n",
      "   Accuracy  Precision    Recall  F1 score\n",
      "0  0.524035   0.165597  1.000000  0.284140\n",
      "1  0.765152   0.774194  0.878049  0.822857\n",
      "2  0.882863   1.000000  0.581395  0.735294\n",
      "3  0.961905   1.000000  0.428571  0.600000\n",
      "4  0.840000   0.793443  0.697406  0.742331\n",
      "5  0.746000   0.951407  0.775000  0.854191\n",
      "6  0.328909   0.284192  0.754717  0.412903\n",
      "\n",
      "Mean performance metric and standard error:\n",
      "0.7213 +- 0.2212\n",
      "0.7098 +- 0.3453\n",
      "0.7307 +- 0.1877\n",
      "0.6360 +- 0.2155\n",
      "\n",
      "\n",
      "| Model   | Accuracy | Precision | Recall | F1   |\n",
      "|---------|----------|-----------|--------|------|\n",
      "| Linear Regression | 0.83 | 0.75 | 0.70 | 0.71 |\n",
      "| Ridge Regression | 0.83 | 0.75 | 0.70 | 0.71 |\n",
      "| Lasso Regression | 0.82 | 0.73 | 0.68 | 0.69 |\n",
      "| ElasticNet Regression | 0.82 | 0.73 | 0.68 | 0.69 |\n",
      "| Decision Tree Regression | 0.72 | 0.71 | 0.73 | 0.64 |\n",
      "\n"
     ]
    },
    {
     "name": "stderr",
     "output_type": "stream",
     "text": [
      "\n"
     ]
    }
   ],
   "source": [
    "# Enrich the features based on the sliding window.\n",
    "window_size = 80\n",
    "sample_step = 60\n",
    "prediction_lead_time = 5 \n",
    "threshold = .5\n",
    "abnormal_limit = 3\n",
    "\n",
    "#param_grids = {\n",
    "    #'Linear Regression': [{}],  # Note: GridSearchCV requires at least one parameter grid\n",
    "    #'Ridge Regression': [{'regressor__alpha': np.logspace(-7, 1, num=100)}],# always choose the lowest value\n",
    "    #'Lasso Regression': [{'regressor__alpha': np.logspace(-7, 1, num=100)}],# always choose the lowest value\n",
    "    #'ElasticNet Regression': [{'regressor__alpha': np.logspace(-7, 1, num=100), 'regressor__l1_ratio': np.logspace(-7, 1, num=100)}], # always choose the lowest value\n",
    "    #'Decision Tree Regression': [{'regressor__max_depth': [2,3,4], 'regressor__min_samples_split': [2,3,4]}] # always choose the lowest value\n",
    "#}\n",
    "\n",
    "#fix parameters to run faster, since we already know the best chosen parameters\n",
    "\n",
    "param_grids = {\n",
    "    'Linear Regression': [{}],  # Note: GridSearchCV requires at least one parameter grid\n",
    "    'Ridge Regression': [{'regressor__alpha': [0.00001]}],# always choose the lowest value\n",
    "    'Lasso Regression': [{'regressor__alpha': [0.00001]}],# always choose the lowest value\n",
    "    'ElasticNet Regression': [{'regressor__alpha': [0.00001], 'regressor__l1_ratio': [0.00001]}], # always choose the lowest value\n",
    "    'Decision Tree Regression': [{'regressor__max_depth': [2], 'regressor__min_samples_split': [2]}] # always choose the lowest value\n",
    "}\n",
    "\n",
    "results = []\n",
    "models = [\n",
    "    ('Linear Regression', [('Normalizer', MinMaxScaler()), ('regressor', LinearRegression())]),\n",
    "    ('Ridge Regression', [('Normalizer', MinMaxScaler()), ('regressor', Ridge())]),\n",
    "    ('Lasso Regression', [('Normalizer', MinMaxScaler()), ('regressor', Lasso())]),\n",
    "    ('ElasticNet Regression', [('Normalizer', MinMaxScaler()), ('regressor', ElasticNet())]),\n",
    "    ('Decision Tree Regression', [('regressor', DecisionTreeRegressor())])\n",
    "]\n",
    "\n",
    "for model_name, model_steps in models:\n",
    "    param_grid = param_grids[model_name]\n",
    "    df_perf = evaluate_model(model_name, model_steps,param_grid, feature_list_all_0, window_size, sample_step, prediction_lead_time, threshold, abnormal_limit)\n",
    "    mean_perf = df_perf.mean()\n",
    "    results.append((model_name, mean_perf['Accuracy'], mean_perf['Precision'], mean_perf['Recall'], mean_perf['F1 score']))\n",
    "\n",
    "table_md = \"| Model   | Accuracy | Precision | Recall | F1   |\\n\"\n",
    "table_md += \"|---------|----------|-----------|--------|------|\\n\"\n",
    "for result in results:\n",
    "    model_name, accuracy, precision, recall, f1 = result\n",
    "    table_md += f\"| {model_name} | {accuracy:.2f} | {precision:.2f} | {recall:.2f} | {f1:.2f} |\\n\"\n",
    "\n",
    "print(table_md)"
   ]
  },
  {
   "cell_type": "markdown",
   "metadata": {},
   "source": [
    "Problem : we have to return the y_pred in the run_cross_val in utility.py"
   ]
  }
 ],
 "metadata": {
  "kernelspec": {
   "display_name": "Python 3",
   "language": "python",
   "name": "python3"
  },
  "language_info": {
   "codemirror_mode": {
    "name": "ipython",
    "version": 3
   },
   "file_extension": ".py",
   "mimetype": "text/x-python",
   "name": "python",
   "nbconvert_exporter": "python",
   "pygments_lexer": "ipython3",
   "version": "3.11.7"
  }
 },
 "nbformat": 4,
 "nbformat_minor": 2
}
